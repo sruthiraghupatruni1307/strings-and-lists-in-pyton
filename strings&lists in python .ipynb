{
 "cells": [
  {
   "cell_type": "markdown",
   "id": "13f86fe4",
   "metadata": {},
   "source": [
    "# strings"
   ]
  },
  {
   "cell_type": "code",
   "execution_count": 1,
   "id": "89b0dbcf",
   "metadata": {},
   "outputs": [],
   "source": [
    "s1='This means that Jupyter is still running the Kernel. It is possible that you are running an infinite loop within the Kernel and that is why it cannot COMPLETE the execution.' "
   ]
  },
  {
   "cell_type": "code",
   "execution_count": 2,
   "id": "1dc2a11a",
   "metadata": {},
   "outputs": [
    {
     "name": "stdout",
     "output_type": "stream",
     "text": [
      "T a e\n"
     ]
    }
   ],
   "source": [
    "print(s1[0],s1[13],s1[-10])"
   ]
  },
  {
   "cell_type": "code",
   "execution_count": 3,
   "id": "d15d88ab",
   "metadata": {},
   "outputs": [
    {
     "name": "stdout",
     "output_type": "stream",
     "text": [
      "173\n"
     ]
    }
   ],
   "source": [
    "print(len(s1))"
   ]
  },
  {
   "cell_type": "markdown",
   "id": "b6b68056",
   "metadata": {},
   "source": [
    "## string slicing\n",
    "\n",
    "### syntax\n",
    "\n",
    "string_var[startingIndex: EndingIndex]\n",
    "\n",
    "- default starting index -> 0\n",
    "- default ending index -> length-1"
   ]
  },
  {
   "cell_type": "code",
   "execution_count": 5,
   "id": "67a8a693",
   "metadata": {},
   "outputs": [
    {
     "name": "stdout",
     "output_type": "stream",
     "text": [
      "This \n"
     ]
    }
   ],
   "source": [
    "print(s1[0:5])"
   ]
  },
  {
   "cell_type": "code",
   "execution_count": 6,
   "id": "6ef38c95",
   "metadata": {},
   "outputs": [
    {
     "name": "stdout",
     "output_type": "stream",
     "text": [
      "This means that Jupyter is still running the Kernel. It is possible that you are running an infinite\n"
     ]
    }
   ],
   "source": [
    "print(s1[0:100])"
   ]
  },
  {
   "cell_type": "code",
   "execution_count": 7,
   "id": "be6db591",
   "metadata": {},
   "outputs": [
    {
     "name": "stdout",
     "output_type": "stream",
     "text": [
      "you are running an infinite loop within the Kernel and that is why it cannot COMPLETE the execution.\n"
     ]
    }
   ],
   "source": [
    "print(s1[-100: ])"
   ]
  },
  {
   "cell_type": "code",
   "execution_count": 9,
   "id": "1b2aac91",
   "metadata": {},
   "outputs": [
    {
     "name": "stdout",
     "output_type": "stream",
     "text": [
      " \n"
     ]
    }
   ],
   "source": [
    "print(s1[4])"
   ]
  },
  {
   "cell_type": "code",
   "execution_count": 10,
   "id": "fbd0cdba",
   "metadata": {},
   "outputs": [
    {
     "name": "stdout",
     "output_type": "stream",
     "text": [
      "This means that This means that\n"
     ]
    }
   ],
   "source": [
    "print(s1[:15],(s1[0:15]))"
   ]
  },
  {
   "cell_type": "code",
   "execution_count": 11,
   "id": "85526b2e",
   "metadata": {},
   "outputs": [
    {
     "name": "stdout",
     "output_type": "stream",
     "text": [
      "This means that Jupyter is still running the Kernel. It is possible that you are running an infinite loop within the Kernel and that is why it cannot COMPLETE the execution.\n"
     ]
    }
   ],
   "source": [
    "print(s1[:])"
   ]
  },
  {
   "cell_type": "markdown",
   "id": "ba48599c",
   "metadata": {},
   "source": [
    "## syntax\n",
    "\n",
    "string_var[startingIndex: EndingIndex:stepSize]\n"
   ]
  },
  {
   "cell_type": "code",
   "execution_count": 12,
   "id": "868528b8",
   "metadata": {},
   "outputs": [
    {
     "name": "stdout",
     "output_type": "stream",
     "text": [
      "Ti en\n"
     ]
    }
   ],
   "source": [
    "print(s1[0:10:2])"
   ]
  },
  {
   "cell_type": "code",
   "execution_count": 13,
   "id": "f16608ad",
   "metadata": {},
   "outputs": [
    {
     "name": "stdout",
     "output_type": "stream",
     "text": [
      "Tses\n"
     ]
    }
   ],
   "source": [
    "print(s1[0:10:3])"
   ]
  },
  {
   "cell_type": "code",
   "execution_count": 14,
   "id": "39a11544",
   "metadata": {},
   "outputs": [
    {
     "name": "stdout",
     "output_type": "stream",
     "text": [
      "eetEEPO onct h ith n erKetnhi oleiin aginreauyth lisps I.erKetginrliss eyu atsamsh\n"
     ]
    }
   ],
   "source": [
    "print(s1[-10::-2])"
   ]
  },
  {
   "cell_type": "code",
   "execution_count": 15,
   "id": "539bfbc1",
   "metadata": {},
   "outputs": [
    {
     "name": "stdout",
     "output_type": "stream",
     "text": [
      "eeuin\n"
     ]
    }
   ],
   "source": [
    "print(s1[-10::2])"
   ]
  },
  {
   "cell_type": "code",
   "execution_count": 17,
   "id": "98764fdf",
   "metadata": {},
   "outputs": [
    {
     "name": "stdout",
     "output_type": "stream",
     "text": [
      ".noitucexe eht ETELPMOC tonnac ti yhw si taht dna lenreK eht nihtiw pool etinifni na gninnur era uoy taht elbissop si tI .lenreK eht gninnur llits si retypuJ taht snaem sihT\n"
     ]
    }
   ],
   "source": [
    "print(s1[::-1])"
   ]
  },
  {
   "cell_type": "code",
   "execution_count": 18,
   "id": "22945f82",
   "metadata": {},
   "outputs": [
    {
     "name": "stdout",
     "output_type": "stream",
     "text": [
      ".otcx h TLMCtna iyws atdalne h itwpo tnfin nnu r o atebso it lne h nnu lt irtpJth ne iT\n"
     ]
    }
   ],
   "source": [
    "print(s1[::-2])"
   ]
  },
  {
   "cell_type": "markdown",
   "id": "9d81f510",
   "metadata": {},
   "source": [
    "## string methods"
   ]
  },
  {
   "cell_type": "code",
   "execution_count": 25,
   "id": "3c415543",
   "metadata": {},
   "outputs": [
    {
     "name": "stdout",
     "output_type": "stream",
     "text": [
      "DATA SCIENCE TRAINING PROGRAM\n"
     ]
    }
   ],
   "source": [
    "s='Data Science Training Program'\n",
    "print(s.upper())"
   ]
  },
  {
   "cell_type": "code",
   "execution_count": 26,
   "id": "d0b56a17",
   "metadata": {},
   "outputs": [
    {
     "name": "stdout",
     "output_type": "stream",
     "text": [
      "Data Science Training Program\n"
     ]
    }
   ],
   "source": [
    "print(s)"
   ]
  },
  {
   "cell_type": "code",
   "execution_count": 27,
   "id": "9e92c379",
   "metadata": {},
   "outputs": [
    {
     "name": "stdout",
     "output_type": "stream",
     "text": [
      "data science training program\n"
     ]
    }
   ],
   "source": [
    "print(s.lower())"
   ]
  },
  {
   "cell_type": "code",
   "execution_count": 28,
   "id": "a2d8cde7",
   "metadata": {},
   "outputs": [
    {
     "name": "stdout",
     "output_type": "stream",
     "text": [
      "dATA sCIENCE tRAINING pROGRAM\n"
     ]
    }
   ],
   "source": [
    "print(s.swapcase())"
   ]
  },
  {
   "cell_type": "code",
   "execution_count": 30,
   "id": "d186abef",
   "metadata": {},
   "outputs": [
    {
     "name": "stdout",
     "output_type": "stream",
     "text": [
      "True False\n",
      "False True\n"
     ]
    }
   ],
   "source": [
    "su='DATA SCIENCE'\n",
    "sl='python'\n",
    "sn='9874563210'\n",
    "print(su.isupper(),sl.isupper())\n",
    "print(su.islower(),sl.islower())"
   ]
  },
  {
   "cell_type": "code",
   "execution_count": 31,
   "id": "a68a5a58",
   "metadata": {},
   "outputs": [
    {
     "name": "stdout",
     "output_type": "stream",
     "text": [
      "False True\n"
     ]
    }
   ],
   "source": [
    "print(su.isdigit(),sn.isdigit())"
   ]
  },
  {
   "cell_type": "markdown",
   "id": "aa50e397",
   "metadata": {},
   "source": [
    "## validating indian mobile number\n",
    "\n",
    "- +91\n",
    "- 10 digits\n",
    "- starts with 9,8,7,6"
   ]
  },
  {
   "cell_type": "code",
   "execution_count": 34,
   "id": "f70e1f43",
   "metadata": {},
   "outputs": [
    {
     "name": "stdout",
     "output_type": "stream",
     "text": [
      "+917896541230 is a valid indian number\n"
     ]
    }
   ],
   "source": [
    "n1='+917896541230'\n",
    "n2='6897451230'\n",
    "n3='+91597564123'\n",
    "n4='+5698713205'\n",
    "if n1[0]=='+':\n",
    "    if n1[1:3]=='91' and len(n1[3: ])==10 and n1[3] in '9876' and n1[1:].isdigit():\n",
    "        print(n1,'is a valid indian number')\n",
    "    else:\n",
    "        print(n1,'is not a valid indian number')\n",
    "elif len(n1)==10 and n1[0] in '9876':\n",
    "    print(n1,'is a valid indian number')\n",
    "else:\n",
    "    print(n1,'is not a valid indian number')\n",
    "    "
   ]
  },
  {
   "cell_type": "code",
   "execution_count": 35,
   "id": "5d22210b",
   "metadata": {},
   "outputs": [
    {
     "name": "stdout",
     "output_type": "stream",
     "text": [
      "6897451230 is not a valid indian number\n"
     ]
    }
   ],
   "source": [
    "n1='+917896541230'\n",
    "n2='6897451230'\n",
    "n3='+91597564123'\n",
    "n4='+5698713205'\n",
    "if n1[0]=='+':\n",
    "    if n2[1:3]=='91' and len(n2[3: ])==10 and n2[3] in '9876' and n2[1:].isdigit():\n",
    "        print(n2,'is a valid indian number')\n",
    "    else:\n",
    "        print(n2,'is not a valid indian number')\n",
    "elif len(n2)==10 and n2[0] in '9876':\n",
    "    print(n2,'is a valid indian number')\n",
    "else:\n",
    "    print(n2,'is not a valid indian number')\n",
    "    "
   ]
  },
  {
   "cell_type": "code",
   "execution_count": 37,
   "id": "7169949d",
   "metadata": {},
   "outputs": [
    {
     "name": "stdout",
     "output_type": "stream",
     "text": [
      "True\n"
     ]
    }
   ],
   "source": [
    "rollNo='1881951041'\n",
    "print(rollNo.startswith('18'))"
   ]
  },
  {
   "cell_type": "code",
   "execution_count": 41,
   "id": "e6844983",
   "metadata": {},
   "outputs": [],
   "source": [
    "email='sruthi@gmailcom'\n",
    "email2='keerthi@gmailcom'\n",
    "email3='sanju@apssdc.in'"
   ]
  },
  {
   "cell_type": "code",
   "execution_count": 43,
   "id": "45461b9e",
   "metadata": {},
   "outputs": [
    {
     "name": "stdout",
     "output_type": "stream",
     "text": [
      "True\n"
     ]
    }
   ],
   "source": [
    "print(email3.endswith('apssdc.in'))"
   ]
  },
  {
   "cell_type": "code",
   "execution_count": 44,
   "id": "f896decd",
   "metadata": {},
   "outputs": [
    {
     "name": "stdout",
     "output_type": "stream",
     "text": [
      "sruthi\n"
     ]
    }
   ],
   "source": [
    "print(email[0:email.index('@')])"
   ]
  },
  {
   "cell_type": "code",
   "execution_count": 46,
   "id": "cb89babd",
   "metadata": {},
   "outputs": [
    {
     "name": "stdout",
     "output_type": "stream",
     "text": [
      "6\n"
     ]
    }
   ],
   "source": [
    "print(email.index('@'))"
   ]
  },
  {
   "cell_type": "code",
   "execution_count": 47,
   "id": "f1e3f24d",
   "metadata": {},
   "outputs": [
    {
     "ename": "ValueError",
     "evalue": "substring not found",
     "output_type": "error",
     "traceback": [
      "\u001b[1;31m---------------------------------------------------------------------------\u001b[0m",
      "\u001b[1;31mValueError\u001b[0m                                Traceback (most recent call last)",
      "\u001b[1;32m<ipython-input-47-902f8226d877>\u001b[0m in \u001b[0;36m<module>\u001b[1;34m\u001b[0m\n\u001b[1;32m----> 1\u001b[1;33m \u001b[0mprint\u001b[0m\u001b[1;33m(\u001b[0m\u001b[0memail2\u001b[0m\u001b[1;33m[\u001b[0m\u001b[0memail2\u001b[0m\u001b[1;33m.\u001b[0m\u001b[0mindex\u001b[0m\u001b[1;33m(\u001b[0m\u001b[1;34m'@'\u001b[0m\u001b[1;33m)\u001b[0m\u001b[1;33m+\u001b[0m\u001b[1;36m1\u001b[0m\u001b[1;33m:\u001b[0m\u001b[0memail2\u001b[0m\u001b[1;33m.\u001b[0m\u001b[0mindex\u001b[0m\u001b[1;33m(\u001b[0m\u001b[1;34m'.'\u001b[0m\u001b[1;33m)\u001b[0m\u001b[1;33m]\u001b[0m\u001b[1;33m)\u001b[0m\u001b[1;33m\u001b[0m\u001b[1;33m\u001b[0m\u001b[0m\n\u001b[0m",
      "\u001b[1;31mValueError\u001b[0m: substring not found"
     ]
    }
   ],
   "source": [
    "print(email2[email2.index('@')+1:email2.index('.')])"
   ]
  },
  {
   "cell_type": "code",
   "execution_count": 54,
   "id": "35d65462",
   "metadata": {},
   "outputs": [
    {
     "ename": "ValueError",
     "evalue": "substring not found",
     "output_type": "error",
     "traceback": [
      "\u001b[1;31m---------------------------------------------------------------------------\u001b[0m",
      "\u001b[1;31mValueError\u001b[0m                                Traceback (most recent call last)",
      "\u001b[1;32m<ipython-input-54-ba8cca8664a7>\u001b[0m in \u001b[0;36m<module>\u001b[1;34m\u001b[0m\n\u001b[0;32m      1\u001b[0m \u001b[0memail\u001b[0m\u001b[1;33m=\u001b[0m\u001b[1;34m'sruthi@gmail.com'\u001b[0m\u001b[1;33m\u001b[0m\u001b[1;33m\u001b[0m\u001b[0m\n\u001b[1;32m----> 2\u001b[1;33m \u001b[0mprint\u001b[0m\u001b[1;33m(\u001b[0m\u001b[0memail\u001b[0m\u001b[1;33m.\u001b[0m\u001b[0mindex\u001b[0m\u001b[1;33m(\u001b[0m\u001b[1;34m'@'\u001b[0m\u001b[1;33m,\u001b[0m\u001b[1;36m20\u001b[0m\u001b[1;33m)\u001b[0m\u001b[1;33m)\u001b[0m\u001b[1;33m\u001b[0m\u001b[1;33m\u001b[0m\u001b[0m\n\u001b[0m",
      "\u001b[1;31mValueError\u001b[0m: substring not found"
     ]
    }
   ],
   "source": [
    "email='sruthi@gmail.com'\n",
    "print(email.index('@',20))"
   ]
  },
  {
   "cell_type": "code",
   "execution_count": 59,
   "id": "b08a3ab7",
   "metadata": {},
   "outputs": [
    {
     "name": "stdout",
     "output_type": "stream",
     "text": [
      "1\n"
     ]
    }
   ],
   "source": [
    "print(email.count('h'))"
   ]
  },
  {
   "cell_type": "code",
   "execution_count": 60,
   "id": "674f0c3f",
   "metadata": {},
   "outputs": [
    {
     "name": "stdout",
     "output_type": "stream",
     "text": [
      "data science         data science data science\n"
     ]
    }
   ],
   "source": [
    "s='   data science     '\n",
    "print(s.lstrip(),s.rstrip(),s.strip())"
   ]
  },
  {
   "cell_type": "code",
   "execution_count": 62,
   "id": "a088fc6c",
   "metadata": {},
   "outputs": [
    {
     "name": "stdout",
     "output_type": "stream",
     "text": [
      "data science)))) ((((data science data science\n"
     ]
    }
   ],
   "source": [
    "s='((((data science))))'\n",
    "print(s.lstrip('('),s.rstrip(')'),s.strip('()'))"
   ]
  },
  {
   "cell_type": "code",
   "execution_count": 63,
   "id": "48405631",
   "metadata": {},
   "outputs": [
    {
     "name": "stdout",
     "output_type": "stream",
     "text": [
      "cleaned data\n"
     ]
    }
   ],
   "source": [
    "s='(((((((((({{{{{[[[[[[cleaned data]]]]]]}}}}}))))))))))'\n",
    "print(s.strip('({[]})'))"
   ]
  },
  {
   "cell_type": "code",
   "execution_count": 64,
   "id": "30628743",
   "metadata": {},
   "outputs": [
    {
     "name": "stdout",
     "output_type": "stream",
     "text": [
      "leaned data\n"
     ]
    }
   ],
   "source": [
    "s='(((((((((({{{{{[[[[[[cleaned data]]]]]]}}}}}))))))))))'\n",
    "print(s.strip('({[c]})'))"
   ]
  },
  {
   "cell_type": "code",
   "execution_count": 65,
   "id": "91ce0f65",
   "metadata": {},
   "outputs": [
    {
     "name": "stdout",
     "output_type": "stream",
     "text": [
      "This means that Jupyter is still running the Kernel. It is possible that you are running an infinite loop within the Kernel and that is why it cannot COMPLETE the execution.\n"
     ]
    }
   ],
   "source": [
    "print(s1)"
   ]
  },
  {
   "cell_type": "code",
   "execution_count": 66,
   "id": "8eab0f31",
   "metadata": {},
   "outputs": [
    {
     "name": "stdout",
     "output_type": "stream",
     "text": [
      "['This means that Jupyter is still running the Kernel. It is possible that you are running an infinite loop within the Kernel and that is why it cannot COMPLETE the execution.']\n"
     ]
    }
   ],
   "source": [
    "print(s1.split('\\n'))"
   ]
  },
  {
   "cell_type": "code",
   "execution_count": 67,
   "id": "69b3a656",
   "metadata": {},
   "outputs": [
    {
     "name": "stdout",
     "output_type": "stream",
     "text": [
      "['This means that Jupyter is still running the Kernel', ' It is possible that you are running an infinite loop within the Kernel and that is why it cannot COMPLETE the execution', '']\n"
     ]
    }
   ],
   "source": [
    "print(s1.split('.'))"
   ]
  },
  {
   "cell_type": "code",
   "execution_count": 69,
   "id": "621cbe54",
   "metadata": {},
   "outputs": [
    {
     "name": "stdout",
     "output_type": "stream",
     "text": [
      "This Means That Jupyter Is Still Running The Kernel. It Is Possible That You Are Running An Infinite Loop Within The Kernel And That Is Why It Cannot Complete The Execution.\n"
     ]
    }
   ],
   "source": [
    "print(s1.title())"
   ]
  },
  {
   "cell_type": "code",
   "execution_count": 70,
   "id": "6ea8b188",
   "metadata": {},
   "outputs": [
    {
     "name": "stdout",
     "output_type": "stream",
     "text": [
      "This means that jupyter is still running the kernel. it is possible that you are running an infinite loop within the kernel and that is why it cannot complete the execution.\n"
     ]
    }
   ],
   "source": [
    "print(s1.capitalize())"
   ]
  },
  {
   "cell_type": "code",
   "execution_count": 71,
   "id": "b64ddc09",
   "metadata": {},
   "outputs": [
    {
     "name": "stdout",
     "output_type": "stream",
     "text": [
      "False\n"
     ]
    }
   ],
   "source": [
    "print(s1.istitle())"
   ]
  },
  {
   "cell_type": "code",
   "execution_count": 72,
   "id": "021d796f",
   "metadata": {},
   "outputs": [
    {
     "name": "stdout",
     "output_type": "stream",
     "text": [
      "this means that jupyter is still running the kernel. it is possible that you are running an infinite loop within the kernel and that is why it cannot complete the execution.\n"
     ]
    }
   ],
   "source": [
    "print(s1.casefold())"
   ]
  },
  {
   "cell_type": "code",
   "execution_count": 75,
   "id": "d1d39e4c",
   "metadata": {},
   "outputs": [
    {
     "name": "stdout",
     "output_type": "stream",
     "text": [
      "True\n"
     ]
    }
   ],
   "source": [
    "s='This Means'\n",
    "print(s.istitle())"
   ]
  },
  {
   "cell_type": "code",
   "execution_count": 77,
   "id": "97eec480",
   "metadata": {},
   "outputs": [
    {
     "name": "stdout",
     "output_type": "stream",
     "text": [
      "Jupyter\n"
     ]
    }
   ],
   "source": [
    "certificate='Jupyter'\n",
    "print(certificate)"
   ]
  },
  {
   "cell_type": "code",
   "execution_count": 78,
   "id": "e6cf490a",
   "metadata": {},
   "outputs": [
    {
     "name": "stdout",
     "output_type": "stream",
     "text": [
      "\n"
     ]
    }
   ],
   "source": [
    "certificate='iam certify that {} from institute,on program,from date'.format('sruthi')\n",
    "print()"
   ]
  },
  {
   "cell_type": "code",
   "execution_count": 79,
   "id": "b77088c0",
   "metadata": {},
   "outputs": [
    {
     "name": "stdout",
     "output_type": "stream",
     "text": [
      "True True\n"
     ]
    }
   ],
   "source": [
    "s='adgfh'\n",
    "s3='hiy5u8gd9'\n",
    "print(s.isalpha(),s3.isalnum())"
   ]
  },
  {
   "cell_type": "code",
   "execution_count": 82,
   "id": "cf7a848f",
   "metadata": {},
   "outputs": [],
   "source": [
    "s1='This means that Jupyter is still running the Kernel. 309403 It is possible that you are running an infinite loop within the Kernel and that is why it cannot COMPLETE the execution.' "
   ]
  },
  {
   "cell_type": "code",
   "execution_count": 83,
   "id": "020d64dd",
   "metadata": {},
   "outputs": [
    {
     "name": "stdout",
     "output_type": "stream",
     "text": [
      "T\th\ti\ts\t \tm\te\ta\tn\ts\t \tt\th\ta\tt\t \tJ\tu\tp\ty\tt\te\tr\t \ti\ts\t \ts\tt\ti\tl\tl\t \tr\tu\tn\tn\ti\tn\tg\t \tt\th\te\t \tK\te\tr\tn\te\tl\t.\t \t3\t0\t9\t4\t0\t3\t \tI\tt\t \ti\ts\t \tp\to\ts\ts\ti\tb\tl\te\t \tt\th\ta\tt\t \ty\to\tu\t \ta\tr\te\t \tr\tu\tn\tn\ti\tn\tg\t \ta\tn\t \ti\tn\tf\ti\tn\ti\tt\te\t \tl\to\to\tp\t \tw\ti\tt\th\ti\tn\t \tt\th\te\t \tK\te\tr\tn\te\tl\t \ta\tn\td\t \tt\th\ta\tt\t \ti\ts\t \tw\th\ty\t \ti\tt\t \tc\ta\tn\tn\to\tt\t \tC\tO\tM\tP\tL\tE\tT\tE\t \tt\th\te\t \te\tx\te\tc\tu\tt\ti\to\tn\t.\t"
     ]
    }
   ],
   "source": [
    "for char in s1:\n",
    "    print(char,end='\\t')"
   ]
  },
  {
   "cell_type": "code",
   "execution_count": 84,
   "id": "9a96c69e",
   "metadata": {},
   "outputs": [
    {
     "name": "stdout",
     "output_type": "stream",
     "text": [
      "T\th\ti\ts\tm\te\ta\tn\ts\tt\th\ta\tt\tJ\tu\tp\ty\tt\te\tr\ti\ts\ts\tt\ti\tl\tl\tr\tu\tn\tn\ti\tn\tg\tt\th\te\tK\te\tr\tn\te\tl\tI\tt\ti\ts\tp\to\ts\ts\ti\tb\tl\te\tt\th\ta\tt\ty\to\tu\ta\tr\te\tr\tu\tn\tn\ti\tn\tg\ta\tn\ti\tn\tf\ti\tn\ti\tt\te\tl\to\to\tp\tw\ti\tt\th\ti\tn\tt\th\te\tK\te\tr\tn\te\tl\ta\tn\td\tt\th\ta\tt\ti\ts\tw\th\ty\ti\tt\tc\ta\tn\tn\to\tt\tC\tO\tM\tP\tL\tE\tT\tE\tt\th\te\te\tx\te\tc\tu\tt\ti\to\tn\t"
     ]
    }
   ],
   "source": [
    "for char in s1:\n",
    "    if char.isalpha():\n",
    "        print(char,end='\\t')"
   ]
  },
  {
   "cell_type": "code",
   "execution_count": 85,
   "id": "eccecad0",
   "metadata": {},
   "outputs": [
    {
     "name": "stdout",
     "output_type": "stream",
     "text": [
      "3\t0\t9\t4\t0\t3\t"
     ]
    }
   ],
   "source": [
    "for char in s1:\n",
    "    if char.isdigit():\n",
    "        print(char,end='\\t')"
   ]
  },
  {
   "cell_type": "code",
   "execution_count": 86,
   "id": "d789138f",
   "metadata": {},
   "outputs": [
    {
     "name": "stdout",
     "output_type": "stream",
     "text": [
      "i\te\ta\ta\tu\te\ti\ti\tu\ti\te\te\te\tI\ti\to\ti\te\ta\to\tu\ta\te\tu\ti\ta\ti\ti\ti\te\to\to\ti\ti\te\te\te\ta\ta\ti\ti\ta\to\tO\tE\tE\te\te\te\tu\ti\to\t"
     ]
    }
   ],
   "source": [
    "for char in s1:\n",
    "    if char in 'AEIOEaeiou':\n",
    "        print(char,end='\\t')"
   ]
  },
  {
   "cell_type": "code",
   "execution_count": 88,
   "id": "29bca4c1",
   "metadata": {},
   "outputs": [
    {
     "name": "stdout",
     "output_type": "stream",
     "text": [
      "alpha 141 digits 6 special characaters 33\n"
     ]
    }
   ],
   "source": [
    "ac=0\n",
    "dc=0\n",
    "sc=0\n",
    "for char in s1:\n",
    "    if char.isalpha():\n",
    "        ac+=1\n",
    "    elif char.isdigit():\n",
    "        dc+=1\n",
    "    else:\n",
    "        sc+=1\n",
    "print('alpha',ac,'digits',dc,'special characaters',sc)"
   ]
  },
  {
   "cell_type": "markdown",
   "id": "459631a6",
   "metadata": {},
   "source": [
    "# lists\n",
    "\n",
    "- it is used tp store the non homogenoues group of datatype\n",
    "\n",
    "## properties\n",
    "\n",
    "- mutable data type\n",
    "- ordered data type\n",
    "- iterable\n",
    "- declared in []"
   ]
  },
  {
   "cell_type": "code",
   "execution_count": 89,
   "id": "c67b7c3b",
   "metadata": {},
   "outputs": [
    {
     "name": "stdout",
     "output_type": "stream",
     "text": [
      "<class 'list'> <class 'list'>\n"
     ]
    }
   ],
   "source": [
    "li=[]\n",
    "li2=list()\n",
    "print(type(li),type(li2))"
   ]
  },
  {
   "cell_type": "code",
   "execution_count": 91,
   "id": "189f8af4",
   "metadata": {},
   "outputs": [
    {
     "name": "stdout",
     "output_type": "stream",
     "text": [
      "[1, 5.5, (5+6j), 'python', [1, 2, 3]]\n"
     ]
    }
   ],
   "source": [
    "li=[1,5.5,5+6j,'python',[1,2,3]]\n",
    "print(li)"
   ]
  },
  {
   "cell_type": "markdown",
   "id": "810afdbe",
   "metadata": {},
   "source": [
    "- sum of digits in the string"
   ]
  },
  {
   "cell_type": "code",
   "execution_count": 2,
   "id": "6fd78144",
   "metadata": {},
   "outputs": [],
   "source": [
    "s1='This means that Jupyter is still running the Kernel. 309403 It is possible that you are running an infinite loop within the Kernel and that is why it cannot COMPLETE the execution.' "
   ]
  },
  {
   "cell_type": "code",
   "execution_count": 3,
   "id": "d3c36176",
   "metadata": {},
   "outputs": [
    {
     "name": "stdout",
     "output_type": "stream",
     "text": [
      "This means that Jupyter is still running the Kernel. 309403 It is possible that you are running an infinite loop within the Kernel and that is why it cannot COMPLETE the execution.\n"
     ]
    }
   ],
   "source": [
    "print(s1)"
   ]
  },
  {
   "cell_type": "code",
   "execution_count": 7,
   "id": "484a7d25",
   "metadata": {},
   "outputs": [
    {
     "name": "stdout",
     "output_type": "stream",
     "text": [
      "19\n",
      "10\n"
     ]
    }
   ],
   "source": [
    "def sum_digits_string(s1):\n",
    "    sum_digit = 0\n",
    "    for x in s1:\n",
    "        if x.isdigit() == True:\n",
    "            z = int(x)\n",
    "            sum_digit = sum_digit + z\n",
    "\n",
    "    return sum_digit\n",
    "     \n",
    "print(sum_digits_string('This means that Jupyter is still running the Kernel. 309403 It is possible that you are running an infinite loop within the Kernel and that is why it cannot COMPLETE the execution.' ))\n",
    "print(sum_digits_string(\"abcd1234\"))"
   ]
  },
  {
   "cell_type": "markdown",
   "id": "9d7d7ddf",
   "metadata": {},
   "source": [
    "- sum of even and odd digits in a stirng"
   ]
  },
  {
   "cell_type": "code",
   "execution_count": 8,
   "id": "1fa0bb71",
   "metadata": {},
   "outputs": [
    {
     "name": "stdout",
     "output_type": "stream",
     "text": [
      "The original list is : [345, 893, 1948, 34, 2346]\n",
      "Odd digit sum : 36\n",
      "Even digit sum : 40\n"
     ]
    }
   ],
   "source": [
    "# initializing list\n",
    "test_list = [345, 893, 1948, 34, 2346]\n",
    "\n",
    "# printing original list\n",
    "print(\"The original list is : \" + str(test_list))\n",
    "\n",
    "odd_sum = 0\n",
    "even_sum = 0\n",
    "\n",
    "for sub in test_list:\n",
    "\tfor ele in str(sub):\n",
    "\t\t\n",
    "\t\t# adding in particular summation according to value\n",
    "\t\tif int(ele) % 2 == 0:\n",
    "\t\t\teven_sum += int(ele)\n",
    "\t\telse:\n",
    "\t\t\todd_sum += int(ele)\n",
    "\n",
    "# printing result\n",
    "print(\"Odd digit sum : \" + str(odd_sum))\n",
    "print(\"Even digit sum : \" + str(even_sum))\n"
   ]
  }
 ],
 "metadata": {
  "kernelspec": {
   "display_name": "Python 3",
   "language": "python",
   "name": "python3"
  },
  "language_info": {
   "codemirror_mode": {
    "name": "ipython",
    "version": 3
   },
   "file_extension": ".py",
   "mimetype": "text/x-python",
   "name": "python",
   "nbconvert_exporter": "python",
   "pygments_lexer": "ipython3",
   "version": "3.8.8"
  }
 },
 "nbformat": 4,
 "nbformat_minor": 5
}
